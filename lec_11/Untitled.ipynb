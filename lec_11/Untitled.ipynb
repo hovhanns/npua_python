{
 "cells": [
  {
   "cell_type": "code",
   "execution_count": 2,
   "id": "20b1be73-b18c-4e8a-8d2a-b342ef6fa012",
   "metadata": {},
   "outputs": [
    {
     "name": "stdout",
     "output_type": "stream",
     "text": [
      "Samvel\n",
      "Samvel Hakobyan\n",
      "some deases\n",
      "['name', 'surname', 'mog', '_Student__deases', '__module__', 'count', '__init__', '__str__', 'say_hello', 'say_problem', '__repr__', '_Student__private_func', 'say_class_name', '__dict__', '__weakref__', '__doc__', '__new__', '__hash__', '__getattribute__', '__setattr__', '__delattr__', '__lt__', '__le__', '__eq__', '__ne__', '__gt__', '__ge__', '__reduce_ex__', '__reduce__', '__getstate__', '__subclasshook__', '__init_subclass__', '__format__', '__sizeof__', '__dir__', '__class__']\n"
     ]
    }
   ],
   "source": [
    "\n",
    "class Student:\n",
    "    count = 0\n",
    "    def __init__(self, name, surname=\"\", mog=0):\n",
    "        self.name = name\n",
    "        self.surname = surname\n",
    "        self.mog = mog\n",
    "        self.__deases = \"some deases\"\n",
    "        Student.count+=1\n",
    "    \n",
    "    def __str__(self):\n",
    "        return f\"{self.name} {self.surname}\"\n",
    "    \n",
    "    def say_hello(self):\n",
    "        print(\"Hello, my name is\", self.name)\n",
    "\n",
    "    def say_problem(self):\n",
    "        print(self.__deases)\n",
    "    def __repr__(self):\n",
    "        print(\"Repr called\")\n",
    "        return \"\" \n",
    "\n",
    "    def __private_func(self):\n",
    "        print(\"called private\")\n",
    "\n",
    "\n",
    "    @staticmethod\n",
    "    def say_class_name():\n",
    "        print(\"This is a Student class\")\n",
    "\n",
    "\n",
    "s1 = Student(\"Samvel\", \"Hakobyan\")\n",
    "print(s1.name)\n",
    "print(s1)\n",
    "s1.say_problem()\n",
    "\n",
    "\n",
    "print(s1.__dir__())\n",
    "\n"
   ]
  },
  {
   "cell_type": "code",
   "execution_count": null,
   "id": "63ac0272-7293-4dcd-b9eb-fde9ce57a59e",
   "metadata": {},
   "outputs": [],
   "source": []
  }
 ],
 "metadata": {
  "kernelspec": {
   "display_name": "Python 3 (ipykernel)",
   "language": "python",
   "name": "python3"
  },
  "language_info": {
   "codemirror_mode": {
    "name": "ipython",
    "version": 3
   },
   "file_extension": ".py",
   "mimetype": "text/x-python",
   "name": "python",
   "nbconvert_exporter": "python",
   "pygments_lexer": "ipython3",
   "version": "3.11.3"
  }
 },
 "nbformat": 4,
 "nbformat_minor": 5
}
