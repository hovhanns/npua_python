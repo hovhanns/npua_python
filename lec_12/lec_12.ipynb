{
 "cells": [
  {
   "cell_type": "markdown",
   "metadata": {},
   "source": [
    "## Lambdas\n"
   ]
  },
  {
   "cell_type": "code",
   "execution_count": 2,
   "metadata": {},
   "outputs": [
    {
     "name": "stdout",
     "output_type": "stream",
     "text": [
      "<function <lambda> at 0x111def130> <class 'function'>\n",
      "<function my_func at 0x111def370> <class 'function'>\n",
      "15\n",
      "15\n"
     ]
    }
   ],
   "source": [
    "def my_func(x):\n",
    "    return x + 10\n",
    "\n",
    "\n",
    "def my_lambda(x): return x + 10\n",
    "\n",
    "\n",
    "# see the difference beteween repr of function and lambda\n",
    "print(my_lambda, type(my_lambda))\n",
    "print(my_func, type(my_func))\n",
    "\n",
    "print(my_lambda(5))\n",
    "print(my_func(5))"
   ]
  },
  {
   "cell_type": "code",
   "execution_count": 5,
   "metadata": {},
   "outputs": [
    {
     "ename": "ZeroDivisionError",
     "evalue": "division by zero",
     "output_type": "error",
     "traceback": [
      "\u001b[0;31m---------------------------------------------------------------------------\u001b[0m",
      "\u001b[0;31mZeroDivisionError\u001b[0m                         Traceback (most recent call last)",
      "\u001b[1;32m/Users/hahovhannisyan/Projects/npua_python/lec_12/lec_12.ipynb Cell 3\u001b[0m line \u001b[0;36m8\n\u001b[1;32m      <a href='vscode-notebook-cell:/Users/hahovhannisyan/Projects/npua_python/lec_12/lec_12.ipynb#W1sZmlsZQ%3D%3D?line=4'>5</a>\u001b[0m \u001b[39mdef\u001b[39;00m \u001b[39mdiv_zero\u001b[39m(x): \n\u001b[1;32m      <a href='vscode-notebook-cell:/Users/hahovhannisyan/Projects/npua_python/lec_12/lec_12.ipynb#W1sZmlsZQ%3D%3D?line=5'>6</a>\u001b[0m     \u001b[39mreturn\u001b[39;00m x \u001b[39m/\u001b[39m \u001b[39m0\u001b[39m\n\u001b[0;32m----> <a href='vscode-notebook-cell:/Users/hahovhannisyan/Projects/npua_python/lec_12/lec_12.ipynb#W1sZmlsZQ%3D%3D?line=7'>8</a>\u001b[0m div_zero(\u001b[39m2\u001b[39;49m)\n",
      "\u001b[1;32m/Users/hahovhannisyan/Projects/npua_python/lec_12/lec_12.ipynb Cell 3\u001b[0m line \u001b[0;36m6\n\u001b[1;32m      <a href='vscode-notebook-cell:/Users/hahovhannisyan/Projects/npua_python/lec_12/lec_12.ipynb#W1sZmlsZQ%3D%3D?line=4'>5</a>\u001b[0m \u001b[39mdef\u001b[39;00m \u001b[39mdiv_zero\u001b[39m(x): \n\u001b[0;32m----> <a href='vscode-notebook-cell:/Users/hahovhannisyan/Projects/npua_python/lec_12/lec_12.ipynb#W1sZmlsZQ%3D%3D?line=5'>6</a>\u001b[0m     \u001b[39mreturn\u001b[39;00m x \u001b[39m/\u001b[39;49m \u001b[39m0\u001b[39;49m\n",
      "\u001b[0;31mZeroDivisionError\u001b[0m: division by zero"
     ]
    }
   ],
   "source": [
    "# excaption case, it's not clear where is the problem\n",
    "# div_zero = lambda x: x / 0\n",
    "# div_zero(2)\n",
    "\n",
    "def div_zero(x):\n",
    "    return x / 0\n",
    "\n",
    "\n",
    "div_zero(2)"
   ]
  },
  {
   "cell_type": "code",
   "execution_count": 10,
   "metadata": {},
   "outputs": [
    {
     "data": {
      "text/plain": [
       "106"
      ]
     },
     "execution_count": 10,
     "metadata": {},
     "output_type": "execute_result"
    }
   ],
   "source": [
    "# my_lambda = lambda x, y, z: x + y + z\n",
    "# my_lambda(1, 2, 3)\n",
    "\n",
    "# (lambda x, y, z=3: x + y + z)(1, 2)\n",
    "\n",
    "# (lambda x, y, z=3: x + y + z)(1, y=2)\n",
    "\n",
    "(lambda *args: sum(args))(1, 2, 3, 100)\n",
    "\n",
    "(lambda **kwargs: sum(kwargs.values()))(one=1, two=2, three=3)"
   ]
  },
  {
   "cell_type": "markdown",
   "metadata": {},
   "source": [
    "## Decorators\n"
   ]
  },
  {
   "cell_type": "code",
   "execution_count": 22,
   "metadata": {},
   "outputs": [
    {
     "name": "stdout",
     "output_type": "stream",
     "text": [
      "<function f at 0x113312cb0>\n",
      "hello\n",
      "None\n"
     ]
    }
   ],
   "source": [
    "def f():\n",
    "    print(\"hello\")\n",
    "\n",
    "print(f)\n",
    "print(f())"
   ]
  },
  {
   "cell_type": "code",
   "execution_count": 26,
   "metadata": {},
   "outputs": [],
   "source": [
    "def some_decorator(f):\n",
    "    def wraps(*args):\n",
    "        print(\"Called with args\", args)\n",
    "        ## write data to DB\n",
    "        return f(args)\n",
    "    return wraps"
   ]
  },
  {
   "cell_type": "code",
   "execution_count": 29,
   "metadata": {},
   "outputs": [],
   "source": [
    "@some_decorator\n",
    "def decorated_function(x):\n",
    "    print(f\"With argument '{x}'\")"
   ]
  },
  {
   "cell_type": "code",
   "execution_count": 28,
   "metadata": {},
   "outputs": [
    {
     "name": "stdout",
     "output_type": "stream",
     "text": [
      "Called with args ('hello',)\n",
      "Calling function 'decorated_function'\n",
      "With argument '('hello',)'\n"
     ]
    }
   ],
   "source": [
    "decorated_function(\"hello\")"
   ]
  },
  {
   "cell_type": "code",
   "execution_count": 30,
   "metadata": {},
   "outputs": [
    {
     "name": "stdout",
     "output_type": "stream",
     "text": [
      "[TRACE] func: add_two, args: (3,), kwargs: {}\n"
     ]
    }
   ],
   "source": [
    "# Defining a decorator\n",
    "def trace(f):\n",
    "    def wrap(*args, **kwargs):\n",
    "        print(f\"[TRACE] func: {f.__name__}, args: {args}, kwargs: {kwargs}\")\n",
    "        return f(*args, **kwargs)\n",
    "    return wrap\n",
    "\n",
    "# Applying decorator to a function\n",
    "@trace\n",
    "def add_two(x):\n",
    "    return x + 2\n",
    "# Calling the decorated function\n",
    "add_two(3)\n",
    "@trace\n",
    "def add(x, y):\n",
    "    return x + y\n",
    "# Applying decorator to a lambda\n",
    "\n",
    "# print((trace(lambda x: x ** 2))(3))"
   ]
  },
  {
   "cell_type": "code",
   "execution_count": 34,
   "metadata": {},
   "outputs": [
    {
     "name": "stdout",
     "output_type": "stream",
     "text": [
      "me\n",
      "Function a() {} Took 1.0051 seconds\n"
     ]
    }
   ],
   "source": [
    "import time\n",
    "from functools import wraps\n",
    "def timeit(func):\n",
    "    @wraps(func)\n",
    "    def timeit_wrapper(*args, **kwargs):\n",
    "        start_time = time.perf_counter()\n",
    "        result = func(*args, **kwargs)\n",
    "        end_time = time.perf_counter()\n",
    "        total_time = end_time - start_time\n",
    "        print(f'Function {func.__name__}{args} {kwargs} Took {total_time:.4f} seconds')\n",
    "        return result\n",
    "    return timeit_wrapper\n",
    "\n",
    "\n",
    "@timeit\n",
    "def a():\n",
    "    time.sleep(1)\n",
    "    print(\"me\")\n",
    "a()"
   ]
  },
  {
   "cell_type": "markdown",
   "metadata": {},
   "source": [
    "## Map Reduce Filter\n"
   ]
  },
  {
   "cell_type": "code",
   "execution_count": 16,
   "metadata": {},
   "outputs": [
    {
     "name": "stdout",
     "output_type": "stream",
     "text": [
      "[1, 4, 9, 16, 25, 36, 49, 64, 81, 100] <class 'list'>\n"
     ]
    }
   ],
   "source": [
    "# examples for map reduce filter\n",
    "\n",
    "# # map\n",
    "# def square(x):\n",
    "#     return x*x\n",
    "\n",
    "\n",
    "my_list = [1, 2, 3, 4, 5, 6, 7, 8, 9, 10]\n",
    "\n",
    "# map\n",
    "res = list(map(lambda x: x*x, my_list))\n",
    "print(res, type(res))"
   ]
  },
  {
   "cell_type": "code",
   "execution_count": 19,
   "metadata": {},
   "outputs": [
    {
     "name": "stdout",
     "output_type": "stream",
     "text": [
      "[2, 4, 6, 8, 10] <class 'list'>\n"
     ]
    }
   ],
   "source": [
    "my_list = [1, 2, 3, 4, 5, 6, 7, 8, 9, 10]\n",
    "\n",
    "\n",
    "def f(x):\n",
    "    return x % 2 == 0\n",
    "\n",
    "\n",
    "res = list(filter(f, my_list))\n",
    "print(res, type(res))"
   ]
  },
  {
   "cell_type": "code",
   "execution_count": 21,
   "metadata": {},
   "outputs": [
    {
     "name": "stdout",
     "output_type": "stream",
     "text": [
      "55 <class 'int'>\n"
     ]
    }
   ],
   "source": [
    "from functools import reduce\n",
    "my_list = [1, 2, 3, 4, 5, 6, 7, 8, 9, 10]\n",
    "res = reduce(lambda x, y: x+y, my_list)\n",
    "# 1 call (1, 2) return 3\n",
    "# 2 call (3, 3) rfeturn 6\n",
    "# 2 call (6, 4)\n",
    "print(res, type(res))\n",
    "\n",
    "\n",
    "# get the max value\n",
    "print(reduce(lambda a, b: a if a > b else b, my_list))"
   ]
  },
  {
   "cell_type": "markdown",
   "metadata": {},
   "source": [
    "## Generators and iterators\n"
   ]
  },
  {
   "cell_type": "code",
   "execution_count": 36,
   "metadata": {},
   "outputs": [
    {
     "name": "stdout",
     "output_type": "stream",
     "text": [
      "1\n",
      "2\n",
      "3\n",
      "4\n"
     ]
    }
   ],
   "source": [
    "list_instance = [1, 2, 3, 4]\n",
    "\n",
    "# convert the list to an iterator\n",
    "iterator = iter(list_instance)\n",
    "\n",
    "# return items one at a time\n",
    "print(next(iterator))\n",
    "print(next(iterator))\n",
    "print(next(iterator))\n",
    "print(next(iterator))"
   ]
  },
  {
   "cell_type": "code",
   "execution_count": 38,
   "metadata": {},
   "outputs": [
    {
     "name": "stdout",
     "output_type": "stream",
     "text": [
      "[1, 2, 3, 4, 5, 6, 7, 8, 9, 10, 11, 12, 13, 14, 15, 16, 17, 18, 19, 20]\n",
      "1\n",
      "2\n",
      "4\n"
     ]
    }
   ],
   "source": [
    "\n",
    "# generators\n",
    "def factors(n):\n",
    "    factor_list = []\n",
    "    for val in range(1, n+1):\n",
    "        factor_list.append(val)\n",
    "    return factor_list\n",
    "print(factors(20))\n",
    "\n",
    "def factors(n):\n",
    "    for val in range(1, n+1):\n",
    "        if n % val == 0:\n",
    "            yield val\n",
    "\n",
    "a = factors(20)\n",
    "print(next(a))\n",
    "print(next(a))\n",
    "print(next(a))"
   ]
  },
  {
   "cell_type": "code",
   "execution_count": null,
   "metadata": {},
   "outputs": [],
   "source": []
  }
 ],
 "metadata": {
  "kernelspec": {
   "display_name": "Python 3",
   "language": "python",
   "name": "python3"
  },
  "language_info": {
   "codemirror_mode": {
    "name": "ipython",
    "version": 3
   },
   "file_extension": ".py",
   "mimetype": "text/x-python",
   "name": "python",
   "nbconvert_exporter": "python",
   "pygments_lexer": "ipython3",
   "version": "3.10.13"
  }
 },
 "nbformat": 4,
 "nbformat_minor": 2
}
